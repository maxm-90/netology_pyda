{
 "cells": [
  {
   "cell_type": "code",
   "execution_count": 1,
   "metadata": {},
   "outputs": [],
   "source": [
    "import pandas as pd"
   ]
  },
  {
   "cell_type": "code",
   "execution_count": null,
   "metadata": {},
   "outputs": [],
   "source": [
    "#Задание 1"
   ]
  },
  {
   "cell_type": "code",
   "execution_count": 89,
   "metadata": {},
   "outputs": [
    {
     "data": {
      "text/html": [
       "<div>\n",
       "<style scoped>\n",
       "    .dataframe tbody tr th:only-of-type {\n",
       "        vertical-align: middle;\n",
       "    }\n",
       "\n",
       "    .dataframe tbody tr th {\n",
       "        vertical-align: top;\n",
       "    }\n",
       "\n",
       "    .dataframe thead th {\n",
       "        text-align: right;\n",
       "    }\n",
       "</style>\n",
       "<table border=\"1\" class=\"dataframe\">\n",
       "  <thead>\n",
       "    <tr style=\"text-align: right;\">\n",
       "      <th></th>\n",
       "      <th>userId</th>\n",
       "      <th>movieId</th>\n",
       "      <th>rating</th>\n",
       "      <th>timestamp</th>\n",
       "    </tr>\n",
       "  </thead>\n",
       "  <tbody>\n",
       "    <tr>\n",
       "      <th>0</th>\n",
       "      <td>1</td>\n",
       "      <td>2</td>\n",
       "      <td>3.5</td>\n",
       "      <td>1112486027</td>\n",
       "    </tr>\n",
       "    <tr>\n",
       "      <th>1</th>\n",
       "      <td>1</td>\n",
       "      <td>29</td>\n",
       "      <td>3.5</td>\n",
       "      <td>1112484676</td>\n",
       "    </tr>\n",
       "    <tr>\n",
       "      <th>2</th>\n",
       "      <td>1</td>\n",
       "      <td>32</td>\n",
       "      <td>3.5</td>\n",
       "      <td>1112484819</td>\n",
       "    </tr>\n",
       "    <tr>\n",
       "      <th>3</th>\n",
       "      <td>1</td>\n",
       "      <td>47</td>\n",
       "      <td>3.5</td>\n",
       "      <td>1112484727</td>\n",
       "    </tr>\n",
       "    <tr>\n",
       "      <th>4</th>\n",
       "      <td>1</td>\n",
       "      <td>50</td>\n",
       "      <td>3.5</td>\n",
       "      <td>1112484580</td>\n",
       "    </tr>\n",
       "  </tbody>\n",
       "</table>\n",
       "</div>"
      ],
      "text/plain": [
       "   userId  movieId  rating   timestamp\n",
       "0       1        2     3.5  1112486027\n",
       "1       1       29     3.5  1112484676\n",
       "2       1       32     3.5  1112484819\n",
       "3       1       47     3.5  1112484727\n",
       "4       1       50     3.5  1112484580"
      ]
     },
     "execution_count": 89,
     "metadata": {},
     "output_type": "execute_result"
    }
   ],
   "source": [
    "data = pd.read_csv('/Users/max/Downloads/ml-20m/ratings.csv')\n",
    "data.head()"
   ]
  },
  {
   "cell_type": "code",
   "execution_count": 30,
   "metadata": {},
   "outputs": [
    {
     "data": {
      "text/html": [
       "<div>\n",
       "<style scoped>\n",
       "    .dataframe tbody tr th:only-of-type {\n",
       "        vertical-align: middle;\n",
       "    }\n",
       "\n",
       "    .dataframe tbody tr th {\n",
       "        vertical-align: top;\n",
       "    }\n",
       "\n",
       "    .dataframe thead th {\n",
       "        text-align: right;\n",
       "    }\n",
       "</style>\n",
       "<table border=\"1\" class=\"dataframe\">\n",
       "  <thead>\n",
       "    <tr style=\"text-align: right;\">\n",
       "      <th></th>\n",
       "      <th>userId</th>\n",
       "      <th>movieId</th>\n",
       "      <th>rating</th>\n",
       "      <th>timestamp</th>\n",
       "    </tr>\n",
       "  </thead>\n",
       "  <tbody>\n",
       "    <tr>\n",
       "      <th>131</th>\n",
       "      <td>1</td>\n",
       "      <td>4993</td>\n",
       "      <td>5.0</td>\n",
       "      <td>1112484682</td>\n",
       "    </tr>\n",
       "    <tr>\n",
       "      <th>142</th>\n",
       "      <td>1</td>\n",
       "      <td>5952</td>\n",
       "      <td>5.0</td>\n",
       "      <td>1112484619</td>\n",
       "    </tr>\n",
       "    <tr>\n",
       "      <th>158</th>\n",
       "      <td>1</td>\n",
       "      <td>7153</td>\n",
       "      <td>5.0</td>\n",
       "      <td>1112484633</td>\n",
       "    </tr>\n",
       "    <tr>\n",
       "      <th>170</th>\n",
       "      <td>1</td>\n",
       "      <td>8507</td>\n",
       "      <td>5.0</td>\n",
       "      <td>1094786027</td>\n",
       "    </tr>\n",
       "    <tr>\n",
       "      <th>176</th>\n",
       "      <td>2</td>\n",
       "      <td>62</td>\n",
       "      <td>5.0</td>\n",
       "      <td>974820598</td>\n",
       "    </tr>\n",
       "  </tbody>\n",
       "</table>\n",
       "</div>"
      ],
      "text/plain": [
       "     userId  movieId  rating   timestamp\n",
       "131       1     4993     5.0  1112484682\n",
       "142       1     5952     5.0  1112484619\n",
       "158       1     7153     5.0  1112484633\n",
       "170       1     8507     5.0  1094786027\n",
       "176       2       62     5.0   974820598"
      ]
     },
     "execution_count": 30,
     "metadata": {},
     "output_type": "execute_result"
    }
   ],
   "source": [
    "filtered_movies = data[(data['rating'] == 5.0)]\n",
    "\n",
    "filtered_movies.head()"
   ]
  },
  {
   "cell_type": "code",
   "execution_count": 38,
   "metadata": {},
   "outputs": [
    {
     "data": {
      "text/plain": [
       "318    31896\n",
       "296    27762\n",
       "593    22513\n",
       "527    22355\n",
       "260    22117\n",
       "Name: movieId, dtype: int64"
      ]
     },
     "execution_count": 38,
     "metadata": {},
     "output_type": "execute_result"
    }
   ],
   "source": [
    "filtered_movies ['movieId'].value_counts().head()"
   ]
  },
  {
   "cell_type": "code",
   "execution_count": 39,
   "metadata": {},
   "outputs": [],
   "source": [
    "#Вывод: фильм с movieID = 318 имеет максимум оценок 5.0 31896"
   ]
  },
  {
   "cell_type": "code",
   "execution_count": null,
   "metadata": {},
   "outputs": [],
   "source": [
    "#Задание 2"
   ]
  },
  {
   "cell_type": "code",
   "execution_count": 41,
   "metadata": {},
   "outputs": [
    {
     "data": {
      "text/html": [
       "<div>\n",
       "<style scoped>\n",
       "    .dataframe tbody tr th:only-of-type {\n",
       "        vertical-align: middle;\n",
       "    }\n",
       "\n",
       "    .dataframe tbody tr th {\n",
       "        vertical-align: top;\n",
       "    }\n",
       "\n",
       "    .dataframe thead th {\n",
       "        text-align: right;\n",
       "    }\n",
       "</style>\n",
       "<table border=\"1\" class=\"dataframe\">\n",
       "  <thead>\n",
       "    <tr style=\"text-align: right;\">\n",
       "      <th></th>\n",
       "      <th>country</th>\n",
       "      <th>year</th>\n",
       "      <th>quantity</th>\n",
       "      <th>category</th>\n",
       "    </tr>\n",
       "  </thead>\n",
       "  <tbody>\n",
       "    <tr>\n",
       "      <th>0</th>\n",
       "      <td>Austria</td>\n",
       "      <td>1996</td>\n",
       "      <td>5.0</td>\n",
       "      <td>1</td>\n",
       "    </tr>\n",
       "    <tr>\n",
       "      <th>1</th>\n",
       "      <td>Austria</td>\n",
       "      <td>1995</td>\n",
       "      <td>17.0</td>\n",
       "      <td>1</td>\n",
       "    </tr>\n",
       "    <tr>\n",
       "      <th>2</th>\n",
       "      <td>Belgium</td>\n",
       "      <td>2014</td>\n",
       "      <td>0.0</td>\n",
       "      <td>1</td>\n",
       "    </tr>\n",
       "    <tr>\n",
       "      <th>3</th>\n",
       "      <td>Belgium</td>\n",
       "      <td>2013</td>\n",
       "      <td>0.0</td>\n",
       "      <td>1</td>\n",
       "    </tr>\n",
       "    <tr>\n",
       "      <th>4</th>\n",
       "      <td>Belgium</td>\n",
       "      <td>2012</td>\n",
       "      <td>35.0</td>\n",
       "      <td>1</td>\n",
       "    </tr>\n",
       "  </tbody>\n",
       "</table>\n",
       "</div>"
      ],
      "text/plain": [
       "   country  year  quantity  category\n",
       "0  Austria  1996       5.0         1\n",
       "1  Austria  1995      17.0         1\n",
       "2  Belgium  2014       0.0         1\n",
       "3  Belgium  2013       0.0         1\n",
       "4  Belgium  2012      35.0         1"
      ]
     },
     "execution_count": 41,
     "metadata": {},
     "output_type": "execute_result"
    }
   ],
   "source": [
    "file = pd.read_csv('/Users/max/Downloads/Python_6_pandas_basics/power.csv')\n",
    "file.head()"
   ]
  },
  {
   "cell_type": "code",
   "execution_count": 43,
   "metadata": {},
   "outputs": [
    {
     "data": {
      "text/plain": [
       "array(['Estonia', 'State of Palestine', 'Timor-Leste'], dtype=object)"
      ]
     },
     "execution_count": 43,
     "metadata": {},
     "output_type": "execute_result"
    }
   ],
   "source": [
    "file[file['country'].str.contains('est', case=False)]['country'].unique()"
   ]
  },
  {
   "cell_type": "code",
   "execution_count": 87,
   "metadata": {},
   "outputs": [
    {
     "data": {
      "text/html": [
       "<div>\n",
       "<style scoped>\n",
       "    .dataframe tbody tr th:only-of-type {\n",
       "        vertical-align: middle;\n",
       "    }\n",
       "\n",
       "    .dataframe tbody tr th {\n",
       "        vertical-align: top;\n",
       "    }\n",
       "\n",
       "    .dataframe thead th {\n",
       "        text-align: right;\n",
       "    }\n",
       "</style>\n",
       "<table border=\"1\" class=\"dataframe\">\n",
       "  <thead>\n",
       "    <tr style=\"text-align: right;\">\n",
       "      <th></th>\n",
       "      <th>country</th>\n",
       "      <th>year</th>\n",
       "      <th>quantity</th>\n",
       "      <th>category</th>\n",
       "    </tr>\n",
       "  </thead>\n",
       "  <tbody>\n",
       "    <tr>\n",
       "      <th>10617</th>\n",
       "      <td>Estonia</td>\n",
       "      <td>2008</td>\n",
       "      <td>1.0</td>\n",
       "      <td>4</td>\n",
       "    </tr>\n",
       "    <tr>\n",
       "      <th>10620</th>\n",
       "      <td>Estonia</td>\n",
       "      <td>2005</td>\n",
       "      <td>1.0</td>\n",
       "      <td>4</td>\n",
       "    </tr>\n",
       "    <tr>\n",
       "      <th>11156</th>\n",
       "      <td>Lithuania</td>\n",
       "      <td>2008</td>\n",
       "      <td>1.0</td>\n",
       "      <td>4</td>\n",
       "    </tr>\n",
       "    <tr>\n",
       "      <th>11158</th>\n",
       "      <td>Lithuania</td>\n",
       "      <td>2006</td>\n",
       "      <td>1.0</td>\n",
       "      <td>4</td>\n",
       "    </tr>\n",
       "    <tr>\n",
       "      <th>11159</th>\n",
       "      <td>Lithuania</td>\n",
       "      <td>2005</td>\n",
       "      <td>1.0</td>\n",
       "      <td>4</td>\n",
       "    </tr>\n",
       "  </tbody>\n",
       "</table>\n",
       "</div>"
      ],
      "text/plain": [
       "         country  year  quantity  category\n",
       "10617    Estonia  2008       1.0         4\n",
       "10620    Estonia  2005       1.0         4\n",
       "11156  Lithuania  2008       1.0         4\n",
       "11158  Lithuania  2006       1.0         4\n",
       "11159  Lithuania  2005       1.0         4"
      ]
     },
     "execution_count": 87,
     "metadata": {},
     "output_type": "execute_result"
    }
   ],
   "source": [
    "filtered_country = file[(file['country'] == 'Latvia') | (file['country'] == 'Lithuania') | (file['country'] == 'Estonia')]\n",
    "filtered_country.head()\n",
    "filtered_category = filtered_country[(filtered_country['category'] == 4) | (filtered_country['category'] == 12) | (filtered_country['category'] == 21)]\n",
    "filtered_years = filtered_category[(filtered_category['year'] >= 2005) & (filtered_category['year'] <= 2010)]\n",
    "filtered_quantity = filtered_years[(filtered_years['quantity'] >0)]\n",
    "filtered_quantity.head()"
   ]
  },
  {
   "cell_type": "code",
   "execution_count": 85,
   "metadata": {},
   "outputs": [
    {
     "data": {
      "text/plain": [
       "240580.0"
      ]
     },
     "execution_count": 85,
     "metadata": {},
     "output_type": "execute_result"
    }
   ],
   "source": [
    "sum(filtered_quantity['quantity'])"
   ]
  },
  {
   "cell_type": "code",
   "execution_count": null,
   "metadata": {},
   "outputs": [],
   "source": [
    "#Задание 3"
   ]
  },
  {
   "cell_type": "code",
   "execution_count": 88,
   "metadata": {},
   "outputs": [
    {
     "data": {
      "text/plain": [
       "[                               Type    Last   Chg.  Chg.%  Time\n",
       " 0  Нефть (BRENT) Курс нефти сегодня  60.540  0.940  1.580   NaN\n",
       " 1   Нефть (WTI) Цены на нефть (WTI)  56.700  0.630  1.120   NaN\n",
       " 2          Сахар котировки на сахар  12.630  0.000  0.000   NaN\n",
       " 3                   Газ Цена на газ   2.186 -0.023 -1.041   NaN,\n",
       "                                     Type          Last      Chg.     Chg.%  \\\n",
       " 0                      ВТБ Акции ОАО ВТБ       0.03929  -0.00010  -0.25387   \n",
       " 1                 Газпром Акции газпрома     231.01000     -0.87  -0.38000   \n",
       " 2                    Лукоил Акции Лукойл    5282.00000     -37.0  -0.70000   \n",
       " 3                Роснефть Акции Роснефти     410.75000     +2.70   0.66000   \n",
       " 4               Сбербанк Акции Сбербанка     218.72000     +2.67   1.24000   \n",
       " 5   Сургутнефтегаз Акции Сургутнефтегаза      25.83500    -0.255  -0.97700   \n",
       " 6              Норникель Акции Норникель   15114.00000       -44  -0.00000   \n",
       " 7               Аэрофлот Акции Аерофлота     110.95000    +14.14  14.61000   \n",
       " 8            Северсталь Акции Северсталь     954.20000      -7.0  -0.70000   \n",
       " 9            Транснефть Акции транснефти  148800.00000   -17 500 -11.00000   \n",
       " 10     Ростелеком Курс акций ростелекома      80.91000     +8.08  11.09000   \n",
       " 11                     RUSAL акции RUSAL       3.05000     +0.04   1.33000   \n",
       " \n",
       "     Time  \n",
       " 0    NaN  \n",
       " 1    NaN  \n",
       " 2    NaN  \n",
       " 3    NaN  \n",
       " 4    NaN  \n",
       " 5    NaN  \n",
       " 6    NaN  \n",
       " 7    NaN  \n",
       " 8    NaN  \n",
       " 9    NaN  \n",
       " 10   NaN  \n",
       " 11   NaN  ,\n",
       "                           Type      Last    Chg.    Chg.%  Time\n",
       " 0      Серебро Цена на серебро    14.987 -2.1260 -12.4230   NaN\n",
       " 1      Платина Цены на платину   855.100  5.1000   0.6000   NaN\n",
       " 2    Палладий Цена на палладий  1473.800 -7.5000  -0.5100   NaN\n",
       " 3      Медь Цена меди на бирже     2.579  0.0055   0.2137   NaN\n",
       " 4  Золото Цена золота на бирже  1503.500 -2.9700  -0.2000   NaN,\n",
       "                                 Type    Last   Chg.  Chg.%  Time\n",
       " 0               Яндекс Акции яндекса   36.92   0.45   1.23   NaN\n",
       " 1          Microsoft Microsoft Corp.  138.79  31.51  29.37   NaN\n",
       " 2                  APPLE Акции APPLE  213.03   2.39   1.13   NaN\n",
       " 3                Toyota Акции Тойоты  120.94   0.00   0.00   NaN\n",
       " 4   Volkswagen Курс акций Volkswagen  146.06   1.45   1.00   NaN\n",
       " 5       Facebook Цена акций Facebook  184.90   0.83   0.45   NaN\n",
       " 6          Tesla Цены на акции Тесла  221.45  -4.53  -2.00   NaN\n",
       " 7          Twiter Цена акций твитера   42.95   0.65   1.54   NaN\n",
       " 8  Hasbro Цена на акции Hasbro, Inc.  115.12  30.25  35.64   NaN,\n",
       "                                                 Type       Last      Chg.  \\\n",
       " 0                         EURUSD Курс евро к доллару    1.10969  -0.00029   \n",
       " 1   AUDUSD Курс австралийского доллара к доллару сша    0.71501   0.03749   \n",
       " 2         AUDCAD Australian Dollar / Canadian Dollar    0.95727   0.05492   \n",
       " 3                          EURCHF Euro / Swiss Franc    1.14008   0.05497   \n",
       " 4                  EURGBP Euro / Great Britain Pound    0.91562   0.00415   \n",
       " 5                         EURJPY Euro / Japanese Yen  125.80000   7.90500   \n",
       " 6          GBPJPY Great Britain Pound / Japanese Yen  145.40200  16.20700   \n",
       " 7                        GBPUSD Курс фунта к доллару    1.21178  -0.00503   \n",
       " 8       USDCAD Курс канадского доллара к доллару сша    1.33885   0.00737   \n",
       " 9              NZDUSD New Zealand Dollar / US Dollar    0.66833   0.02706   \n",
       " 10                    USDCHF US Dollar / Swiss Franc    1.01425   0.03669   \n",
       " 11         USDCNH Курс китайского юаня к доллару США    7.06815  -0.00182   \n",
       " 12                        USDJPY Курс йены к доллару  111.93100   5.72100   \n",
       " \n",
       "        Chg.%  Time  \n",
       " 0   -0.02613   NaN  \n",
       " 1    5.53342   NaN  \n",
       " 2    6.08633   NaN  \n",
       " 3    5.06585   NaN  \n",
       " 4    0.45531   NaN  \n",
       " 5    6.70500   NaN  \n",
       " 6   12.54500   NaN  \n",
       " 7   -0.41338   NaN  \n",
       " 8    0.55352   NaN  \n",
       " 9    4.21975   NaN  \n",
       " 10   3.75322   NaN  \n",
       " 11  -0.02574   NaN  \n",
       " 12   5.38600   NaN  ,\n",
       "                                                  Type           Last  \\\n",
       " 0                               Bitcoin Курс биткоина   10016.400000   \n",
       " 1          Litecoin Курс лайткоин к доллару (LTC/USD)      71.513000   \n",
       " 2   BitcoinCash Курс Биткоин кеш к доллару США (BC...     294.710000   \n",
       " 3                                           Dash Dash      87.180000   \n",
       " 4                                       Ripple Ripple       0.262160   \n",
       " 5                                   Ethereum Ethereum     184.003000   \n",
       " 6                                   EmerCoin EmerCoin       0.140050   \n",
       " 7                                   NameCoin NameCoin       0.274000   \n",
       " 8                                   PeerCoin PeerCoin       1.300000   \n",
       " 9                             BTCRUB биткоин в рублях  247059.000000   \n",
       " 10                              BTCEUR биткоин в евро    8968.550000   \n",
       " 11                                        Zcash (ZEC)      48.821000   \n",
       " 12                                          NEO (NEO)       9.370400   \n",
       " 13                                          EOS (EOS)       3.467100   \n",
       " 14                                         TRON (TRX)       0.016595   \n",
       " 15                                             Monero      80.057000   \n",
       " 16                                            Cardano       0.049171   \n",
       " 17                                               IOTA       0.234990   \n",
       " 18                       ETC/USD эфириум классик, ETC       6.006700   \n",
       " \n",
       "          Chg.      Chg.%  Time  \n",
       " 0    -680.600  -6.363000   NaN  \n",
       " 1      -3.779  -5.019000   NaN  \n",
       " 2     -18.020  -5.762000   NaN  \n",
       " 3      -6.200  -6.640000   NaN  \n",
       " 4    -0.01145  -4.184790   NaN  \n",
       " 5     -12.618  -6.417000   NaN  \n",
       " 6     0.00000   0.000000   NaN  \n",
       " 7      -0.051 -15.692000   NaN  \n",
       " 8       +0.16  14.040000   NaN  \n",
       " 9   -3 097.00  -1.240000   NaN  \n",
       " 10   -598.450  -6.255000   NaN  \n",
       " 11     -3.256  -6.252000   NaN  \n",
       " 12    -0.5566  -5.606900   NaN  \n",
       " 13    -0.2102  -5.716200   NaN  \n",
       " 14  -0.000955  -5.441595   NaN  \n",
       " 15     -6.031  -7.006000   NaN  \n",
       " 16  +0.000582   1.197802   NaN  \n",
       " 17   -0.01507  -6.026550   NaN  \n",
       " 18    -0.0401  -0.663200   NaN  ,\n",
       "                                        Type       Last    Chg.  Chg.%  Time\n",
       " 0   Фьючерс РТС Курс фьючерса на индекс РТС  118130.00    0.00   0.00   NaN\n",
       " 1                      РТС Курс индекса РТС    1278.85   15.50   1.23   NaN\n",
       " 2                                     DAX30   12270.70  644.50   5.50   NaN\n",
       " 3                       Индекс Dow 30 (DJI)   26194.00  316.00   1.00   NaN\n",
       " 4                                      FTSE    7137.70   42.20   0.60   NaN\n",
       " 5                                    CAC 40    5279.70    0.00   0.00   NaN\n",
       " 6                                Nasdaq 100    7751.46   95.14   1.24   NaN\n",
       " 7                              Russell 2000    1594.50    6.20   0.40   NaN\n",
       " 8                                   S&P 500    2816.30   10.80   0.40   NaN\n",
       " 9                                   IBEX 35    9595.40  970.40  11.30   NaN\n",
       " 10                               Nikkei 225   21779.00   39.00   0.00   NaN\n",
       " 11                            Euro Stoxx 50    3513.20  173.50   5.20   NaN\n",
       " 12                                  S&P 500    2904.60    4.30   0.10   NaN\n",
       " 13                              S&P/ASX 200    6288.50 -218.40  -3.40   NaN\n",
       " 14                                      MIB   20835.00  338.00   2.00   NaN,\n",
       "                                Type     Last    Chg.   Chg.%  Time\n",
       " 0  EURRUB Курс евро к рублю сегодня  72.9594 -0.7833 -1.0622   NaN\n",
       " 1       USDRUB Курс рубля к доллару  65.7598 -0.3972 -0.6004   NaN]"
      ]
     },
     "execution_count": 88,
     "metadata": {},
     "output_type": "execute_result"
    }
   ],
   "source": [
    "pd.read_html('https://fortrader.org/quotes')"
   ]
  },
  {
   "cell_type": "code",
   "execution_count": null,
   "metadata": {},
   "outputs": [],
   "source": []
  },
  {
   "cell_type": "code",
   "execution_count": null,
   "metadata": {},
   "outputs": [],
   "source": []
  },
  {
   "cell_type": "code",
   "execution_count": null,
   "metadata": {},
   "outputs": [],
   "source": []
  },
  {
   "cell_type": "code",
   "execution_count": null,
   "metadata": {},
   "outputs": [],
   "source": []
  },
  {
   "cell_type": "code",
   "execution_count": null,
   "metadata": {},
   "outputs": [],
   "source": []
  },
  {
   "cell_type": "code",
   "execution_count": null,
   "metadata": {},
   "outputs": [],
   "source": []
  },
  {
   "cell_type": "code",
   "execution_count": null,
   "metadata": {},
   "outputs": [],
   "source": []
  },
  {
   "cell_type": "code",
   "execution_count": null,
   "metadata": {},
   "outputs": [],
   "source": []
  }
 ],
 "metadata": {
  "kernelspec": {
   "display_name": "Python 3",
   "language": "python",
   "name": "python3"
  },
  "language_info": {
   "codemirror_mode": {
    "name": "ipython",
    "version": 3
   },
   "file_extension": ".py",
   "mimetype": "text/x-python",
   "name": "python",
   "nbconvert_exporter": "python",
   "pygments_lexer": "ipython3",
   "version": "3.7.3"
  }
 },
 "nbformat": 4,
 "nbformat_minor": 2
}

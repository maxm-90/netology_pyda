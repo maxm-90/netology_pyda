{
 "cells": [
  {
   "cell_type": "code",
   "execution_count": 1,
   "metadata": {},
   "outputs": [
    {
     "data": {
      "text/plain": [
       "True"
      ]
     },
     "execution_count": 1,
     "metadata": {},
     "output_type": "execute_result"
    }
   ],
   "source": [
    "long_phrase = 'Насколько проще было бы писать программы, если бы не заказчики'\n",
    "short_phrase = '640Кб должно хватить для любых задач. Билл Гейтс (по легенде)'\n",
    "long_phrase > short_phrase"
   ]
  },
  {
   "cell_type": "code",
   "execution_count": 35,
   "metadata": {},
   "outputs": [
    {
     "name": "stdout",
     "output_type": "stream",
     "text": [
      "Объем файла равен 213.68Mb\n"
     ]
    }
   ],
   "source": [
    "a = 213680000\n",
    "print('Объем файла равен ', a / 1000000,'Mb', sep = '')"
   ]
  },
  {
   "cell_type": "code",
   "execution_count": 33,
   "metadata": {},
   "outputs": [
    {
     "name": "stdout",
     "output_type": "stream",
     "text": [
      "Введите месяц:март\n",
      "Введите число:13\n",
      "Вывод:\n",
      "Рыбы\n"
     ]
    }
   ],
   "source": [
    "month = input('Введите месяц:')\n",
    "date = int(input('Введите число:'))\n",
    "if month == 'март' and date >=21 or month == 'апрель' and date <= 20:\n",
    "    z = 'Овен'\n",
    "elif month == 'апрель' and date >=21 or month == 'май' and date <= 21:\n",
    "    z = 'Телец'\n",
    "elif month == 'май' and date >=22 or month == 'июнь' and date <= 21:\n",
    "    z = 'Близнецы'\n",
    "elif month == 'июнь' and date >=22 or month == 'июль' and date <= 22:\n",
    "    z = 'Рак'\n",
    "elif month == 'июль' and date >=23 or month == 'август' and date <= 23:\n",
    "    z = 'Лев'\n",
    "elif month == 'август' and date >=24 or month == 'сентябрь' and date <= 23:\n",
    "    z = 'Дева'\n",
    "elif month == 'сентябрь' and date >=24 or month == 'октябрь' and date <= 23:\n",
    "    z = 'Весы'\n",
    "elif month == 'октябрь' and date >=24 or month == 'ноябрь' and date <= 22:\n",
    "    z = 'Скорпион'\n",
    "elif month == 'ноябрь' and date >=23 or month == 'декабрь' and date <= 22:\n",
    "    z = 'Стрелец'\n",
    "elif month == 'декабрь' and date >=23 or month == 'январь' and date <= 20:\n",
    "    z = 'Козерог'\n",
    "elif month == 'январь' and date >=21 or month == 'февраль' and date <= 19:\n",
    "    z = 'Водолей'\n",
    "else: z = 'Рыбы'\n",
    "print('Вывод:', '\\n', z, sep = '')"
   ]
  },
  {
   "cell_type": "code",
   "execution_count": 36,
   "metadata": {},
   "outputs": [
    {
     "name": "stdout",
     "output_type": "stream",
     "text": [
      "Введите заработанную плату в месяц:100000\n",
      "Введите сколько процентов уходит на ипотеку:30\n",
      "Введите сколько процентов уходит на жизнь:50\n",
      "Введите количество премий за год:2\n",
      "Вывод:\n",
      "На ипотеку было потрачено:360000 рублей\n",
      "Было накоплено:340000 рублей\n"
     ]
    }
   ],
   "source": [
    "salary = int(input('Введите заработанную плату в месяц:'))\n",
    "mortgage = int(input('Введите сколько процентов уходит на ипотеку:'))\n",
    "life = int(input('Введите сколько процентов уходит на жизнь:'))\n",
    "bonus = int(input('Введите количество премий за год:'))\n",
    "mortgage_year = 12 * salary * mortgage / 100\n",
    "savings = 12 * salary - mortgage_year - 12 * salary * life / 100\n",
    "if bonus > 0:\n",
    "    savings += bonus * salary / 2\n",
    "print('Вывод:', '\\n', 'На ипотеку было потрачено:', int(mortgage_year), ' рублей', \\\n",
    "      '\\n', 'Было накоплено:', int(savings), ' рублей', sep = '')"
   ]
  },
  {
   "cell_type": "code",
   "execution_count": null,
   "metadata": {},
   "outputs": [],
   "source": []
  }
 ],
 "metadata": {
  "kernelspec": {
   "display_name": "Python 3",
   "language": "python",
   "name": "python3"
  },
  "language_info": {
   "codemirror_mode": {
    "name": "ipython",
    "version": 3
   },
   "file_extension": ".py",
   "mimetype": "text/x-python",
   "name": "python",
   "nbconvert_exporter": "python",
   "pygments_lexer": "ipython3",
   "version": "3.7.3"
  }
 },
 "nbformat": 4,
 "nbformat_minor": 2
}

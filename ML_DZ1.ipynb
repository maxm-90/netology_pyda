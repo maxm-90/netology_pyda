{
 "cells": [
  {
   "cell_type": "code",
   "execution_count": 1,
   "metadata": {},
   "outputs": [],
   "source": [
    "import numpy as np\n",
    "import random\n",
    "from sklearn.datasets.samples_generator import make_classification\n",
    "import pylab\n",
    "from scipy import stats"
   ]
  },
  {
   "cell_type": "code",
   "execution_count": 2,
   "metadata": {},
   "outputs": [],
   "source": [
    "x, y = make_classification(n_samples=100, n_features=2,n_informative=1, n_redundant=1,\n",
    "                           random_state=2, n_classes=2, n_clusters_per_class=1)"
   ]
  },
  {
   "cell_type": "code",
   "execution_count": 3,
   "metadata": {},
   "outputs": [
    {
     "data": {
      "text/plain": [
       "(100, 2)"
      ]
     },
     "execution_count": 3,
     "metadata": {},
     "output_type": "execute_result"
    }
   ],
   "source": [
    "m, n =np.shape(x)\n",
    "m, n"
   ]
  },
  {
   "cell_type": "code",
   "execution_count": 9,
   "metadata": {},
   "outputs": [
    {
     "data": {
      "text/plain": [
       "(100, 3)"
      ]
     },
     "execution_count": 9,
     "metadata": {},
     "output_type": "execute_result"
    }
   ],
   "source": [
    "x = np.c_[np.ones(m), x]\n",
    "x.shape"
   ]
  },
  {
   "cell_type": "code",
   "execution_count": 10,
   "metadata": {},
   "outputs": [],
   "source": [
    "def gradient_descent_2(alpha, x, y, numIterations):\n",
    "    \"\"\"\n",
    "    Функция реализует алгоритм градиентного спуска для задачи классификации.\n",
    "    Логистическая регрессия.\n",
    "    \"\"\"\n",
    "    \n",
    "    m = x.shape[0] # 100\n",
    "    theta = np.ones(3) # [ 1.  1.  1.]\n",
    "    \n",
    "    for iter in range( 0, numIterations ):\n",
    "        P = 1/(1 + np.exp(-np.dot(x, theta))) # вектор вероятностей принадлежности к классу 1\n",
    "        \n",
    "        J = np.sum(-y*np.log(P)-(1-y)*np.log(1-P))  # функция потерь\n",
    "        \n",
    "        print( \"iter %s | J: %.3f\" % (iter, J) )\n",
    "        \n",
    "        gradient = np.dot((P-y),x)        \n",
    "        theta = theta - alpha * gradient  # update\n",
    "    \n",
    "    return theta"
   ]
  },
  {
   "cell_type": "code",
   "execution_count": 11,
   "metadata": {
    "collapsed": true
   },
   "outputs": [
    {
     "name": "stdout",
     "output_type": "stream",
     "text": [
      "iter 0 | J: 39.098\n",
      "iter 1 | J: 21.081\n",
      "iter 2 | J: 20.405\n",
      "iter 3 | J: 20.002\n",
      "iter 4 | J: 19.737\n",
      "iter 5 | J: 19.551\n",
      "iter 6 | J: 19.415\n",
      "iter 7 | J: 19.313\n",
      "iter 8 | J: 19.234\n",
      "iter 9 | J: 19.173\n",
      "iter 10 | J: 19.124\n",
      "iter 11 | J: 19.085\n",
      "iter 12 | J: 19.053\n",
      "iter 13 | J: 19.026\n",
      "iter 14 | J: 19.005\n",
      "iter 15 | J: 18.987\n",
      "iter 16 | J: 18.972\n",
      "iter 17 | J: 18.959\n",
      "iter 18 | J: 18.948\n",
      "iter 19 | J: 18.939\n",
      "iter 20 | J: 18.932\n",
      "iter 21 | J: 18.925\n",
      "iter 22 | J: 18.919\n",
      "iter 23 | J: 18.915\n",
      "iter 24 | J: 18.910\n",
      "iter 25 | J: 18.907\n",
      "iter 26 | J: 18.904\n",
      "iter 27 | J: 18.901\n",
      "iter 28 | J: 18.899\n",
      "iter 29 | J: 18.897\n",
      "iter 30 | J: 18.895\n",
      "iter 31 | J: 18.894\n",
      "iter 32 | J: 18.892\n",
      "iter 33 | J: 18.891\n",
      "iter 34 | J: 18.890\n",
      "iter 35 | J: 18.889\n",
      "iter 36 | J: 18.889\n",
      "iter 37 | J: 18.888\n",
      "iter 38 | J: 18.887\n",
      "iter 39 | J: 18.887\n",
      "iter 40 | J: 18.886\n",
      "iter 41 | J: 18.886\n",
      "iter 42 | J: 18.886\n",
      "iter 43 | J: 18.885\n",
      "iter 44 | J: 18.885\n",
      "iter 45 | J: 18.885\n",
      "iter 46 | J: 18.885\n",
      "iter 47 | J: 18.885\n",
      "iter 48 | J: 18.884\n",
      "iter 49 | J: 18.884\n",
      "iter 50 | J: 18.884\n",
      "iter 51 | J: 18.884\n",
      "iter 52 | J: 18.884\n",
      "iter 53 | J: 18.884\n",
      "iter 54 | J: 18.884\n",
      "iter 55 | J: 18.884\n",
      "iter 56 | J: 18.884\n",
      "iter 57 | J: 18.884\n",
      "iter 58 | J: 18.884\n",
      "iter 59 | J: 18.884\n",
      "iter 60 | J: 18.884\n",
      "iter 61 | J: 18.884\n",
      "iter 62 | J: 18.884\n",
      "iter 63 | J: 18.884\n",
      "iter 64 | J: 18.883\n",
      "iter 65 | J: 18.883\n",
      "iter 66 | J: 18.883\n",
      "iter 67 | J: 18.883\n",
      "iter 68 | J: 18.883\n",
      "iter 69 | J: 18.883\n",
      "iter 70 | J: 18.883\n",
      "iter 71 | J: 18.883\n",
      "iter 72 | J: 18.883\n",
      "iter 73 | J: 18.883\n",
      "iter 74 | J: 18.883\n",
      "iter 75 | J: 18.883\n",
      "iter 76 | J: 18.883\n",
      "iter 77 | J: 18.883\n",
      "iter 78 | J: 18.883\n",
      "iter 79 | J: 18.883\n",
      "iter 80 | J: 18.883\n",
      "iter 81 | J: 18.883\n",
      "iter 82 | J: 18.883\n",
      "iter 83 | J: 18.883\n",
      "iter 84 | J: 18.883\n",
      "iter 85 | J: 18.883\n",
      "iter 86 | J: 18.883\n",
      "iter 87 | J: 18.883\n",
      "iter 88 | J: 18.883\n",
      "iter 89 | J: 18.883\n",
      "iter 90 | J: 18.883\n",
      "iter 91 | J: 18.883\n",
      "iter 92 | J: 18.883\n",
      "iter 93 | J: 18.883\n",
      "iter 94 | J: 18.883\n",
      "iter 95 | J: 18.883\n",
      "iter 96 | J: 18.883\n",
      "iter 97 | J: 18.883\n",
      "iter 98 | J: 18.883\n",
      "iter 99 | J: 18.883\n"
     ]
    },
    {
     "data": {
      "text/plain": [
       "array([0.95931362, 3.32890998, 1.57553507])"
      ]
     },
     "execution_count": 11,
     "metadata": {},
     "output_type": "execute_result"
    }
   ],
   "source": [
    "gradient_descent_2 (0.05, x, y, 100)"
   ]
  },
  {
   "cell_type": "code",
   "execution_count": 12,
   "metadata": {
    "scrolled": true
   },
   "outputs": [],
   "source": [
    "# Линейный классификатор"
   ]
  },
  {
   "cell_type": "code",
   "execution_count": 46,
   "metadata": {},
   "outputs": [],
   "source": [
    "x1, y1 = make_classification(n_samples=100, n_features=2,n_informative=1, n_redundant=1,\n",
    "                           random_state=133, n_classes=2, n_clusters_per_class=1)"
   ]
  },
  {
   "cell_type": "code",
   "execution_count": 47,
   "metadata": {},
   "outputs": [
    {
     "data": {
      "text/plain": [
       "(100, 3)"
      ]
     },
     "execution_count": 47,
     "metadata": {},
     "output_type": "execute_result"
    }
   ],
   "source": [
    "x1 = np.c_[np.ones(m), x1]\n",
    "x1.shape"
   ]
  },
  {
   "cell_type": "code",
   "execution_count": 48,
   "metadata": {},
   "outputs": [],
   "source": [
    "y1[y1==0] = -1 # переводим с нуля на -1"
   ]
  },
  {
   "cell_type": "code",
   "execution_count": 49,
   "metadata": {},
   "outputs": [],
   "source": [
    "theta = np.ones(3)"
   ]
  },
  {
   "cell_type": "code",
   "execution_count": 58,
   "metadata": {},
   "outputs": [],
   "source": [
    "def gradient_descent_1(alpha, x1, y1, numIterations):\n",
    "    \"\"\"\n",
    "    Функция реализует алгоритм градиентного спуска для задачи классификации.\n",
    "    Линейный классификатор.\n",
    "    \"\"\"\n",
    "    \n",
    "    m = x1.shape[0] # 100\n",
    "    theta = np.ones(3) # [ 1.  1.  1.]\n",
    "    \n",
    "    for iter in range( 0, numIterations ):\n",
    "        #hypothesis = np.dot(x1, theta)\n",
    "        #hypothesis[hypothesis < 0] = -1\n",
    "        #hypothesis[hypothesis > 0] = 1 # вектор ответов\n",
    "        \n",
    "        J1 = 0.5 * np.sum(((np.dot(x1, theta))-y1)**2)  # функция потерь\n",
    "        print( \"iter %s | J: %.3f\" % (iter, J1) )\n",
    "        gradient = np.dot(((np.dot(x1, theta))-y1), x1)\n",
    "        theta = theta - alpha * gradient  # update\n",
    "    \n",
    "    return theta"
   ]
  },
  {
   "cell_type": "code",
   "execution_count": 63,
   "metadata": {},
   "outputs": [
    {
     "name": "stdout",
     "output_type": "stream",
     "text": [
      "iter 0 | J: 72.373\n",
      "iter 1 | J: 13.286\n",
      "iter 2 | J: 11.847\n",
      "iter 3 | J: 11.695\n",
      "iter 4 | J: 11.679\n",
      "iter 5 | J: 11.677\n",
      "iter 6 | J: 11.677\n",
      "iter 7 | J: 11.677\n",
      "iter 8 | J: 11.677\n",
      "iter 9 | J: 11.677\n",
      "iter 10 | J: 11.677\n",
      "iter 11 | J: 11.677\n",
      "iter 12 | J: 11.677\n",
      "iter 13 | J: 11.677\n",
      "iter 14 | J: 11.677\n"
     ]
    },
    {
     "data": {
      "text/plain": [
       "array([-0.01621213,  0.96486825,  0.66581246])"
      ]
     },
     "execution_count": 63,
     "metadata": {},
     "output_type": "execute_result"
    }
   ],
   "source": [
    "gradient_descent_1(0.01, x1, y1, 15)"
   ]
  },
  {
   "cell_type": "code",
   "execution_count": null,
   "metadata": {},
   "outputs": [],
   "source": []
  },
  {
   "cell_type": "code",
   "execution_count": null,
   "metadata": {},
   "outputs": [],
   "source": []
  },
  {
   "cell_type": "code",
   "execution_count": null,
   "metadata": {},
   "outputs": [],
   "source": []
  },
  {
   "cell_type": "code",
   "execution_count": null,
   "metadata": {},
   "outputs": [],
   "source": []
  },
  {
   "cell_type": "code",
   "execution_count": null,
   "metadata": {},
   "outputs": [],
   "source": []
  },
  {
   "cell_type": "code",
   "execution_count": null,
   "metadata": {},
   "outputs": [],
   "source": []
  },
  {
   "cell_type": "code",
   "execution_count": 21,
   "metadata": {},
   "outputs": [],
   "source": []
  },
  {
   "cell_type": "code",
   "execution_count": 23,
   "metadata": {},
   "outputs": [],
   "source": []
  },
  {
   "cell_type": "code",
   "execution_count": null,
   "metadata": {},
   "outputs": [],
   "source": []
  },
  {
   "cell_type": "code",
   "execution_count": null,
   "metadata": {},
   "outputs": [],
   "source": []
  },
  {
   "cell_type": "code",
   "execution_count": null,
   "metadata": {},
   "outputs": [],
   "source": []
  },
  {
   "cell_type": "code",
   "execution_count": null,
   "metadata": {},
   "outputs": [],
   "source": []
  },
  {
   "cell_type": "code",
   "execution_count": null,
   "metadata": {},
   "outputs": [],
   "source": []
  },
  {
   "cell_type": "code",
   "execution_count": null,
   "metadata": {},
   "outputs": [],
   "source": []
  },
  {
   "cell_type": "code",
   "execution_count": null,
   "metadata": {},
   "outputs": [],
   "source": []
  },
  {
   "cell_type": "code",
   "execution_count": null,
   "metadata": {},
   "outputs": [],
   "source": []
  },
  {
   "cell_type": "code",
   "execution_count": null,
   "metadata": {},
   "outputs": [],
   "source": []
  }
 ],
 "metadata": {
  "kernelspec": {
   "display_name": "Python 3",
   "language": "python",
   "name": "python3"
  },
  "language_info": {
   "codemirror_mode": {
    "name": "ipython",
    "version": 3
   },
   "file_extension": ".py",
   "mimetype": "text/x-python",
   "name": "python",
   "nbconvert_exporter": "python",
   "pygments_lexer": "ipython3",
   "version": "3.7.3"
  }
 },
 "nbformat": 4,
 "nbformat_minor": 2
}

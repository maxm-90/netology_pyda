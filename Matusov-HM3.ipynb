{
 "cells": [
  {
   "cell_type": "markdown",
   "metadata": {},
   "source": [
    "## Задание 1"
   ]
  },
  {
   "cell_type": "markdown",
   "metadata": {},
   "source": [
    "Дан список вида:"
   ]
  },
  {
   "cell_type": "code",
   "execution_count": 113,
   "metadata": {},
   "outputs": [
    {
     "name": "stdout",
     "output_type": "stream",
     "text": [
      "Сумма элементов по диагонали: 103\n"
     ]
    }
   ],
   "source": [
    "data = [\n",
    "    [13, 25, 23, 34],\n",
    "    [45, 32, 44, 47],\n",
    "    [12, 33, 23, 95],\n",
    "    [13, 53, 34, 35]\n",
    "]\n",
    "def diagonal(digits):\n",
    "    index = 0\n",
    "    total = 0\n",
    "    for line in digits:\n",
    "        total += line[index]\n",
    "        index +=1\n",
    "    return print(f\"Сумма элементов по диагонали: {total}\")\n",
    "\n",
    "diagonal(data)"
   ]
  },
  {
   "cell_type": "markdown",
   "metadata": {},
   "source": [
    "Напишите функцию, которая возвращает сумму элементов на диагонали. Т. е. 13+32+23+35."
   ]
  },
  {
   "cell_type": "markdown",
   "metadata": {},
   "source": [
    "## Задание 2"
   ]
  },
  {
   "cell_type": "markdown",
   "metadata": {},
   "source": [
    "Дан список чисел, часть из которых имеют строковый тип или содержат буквы. Напишите функцию, которая возвращает сумму квадратов элементов, которые могут быть числами."
   ]
  },
  {
   "cell_type": "code",
   "execution_count": 114,
   "metadata": {},
   "outputs": [
    {
     "name": "stdout",
     "output_type": "stream",
     "text": [
      "430\n"
     ]
    }
   ],
   "source": [
    "data = [1, '5', 'abc', 20, '2']\n",
    "def square(objects):\n",
    "    result = 0\n",
    "    for element in objects:\n",
    "        if str(element).isdigit() == True:\n",
    "            result+=int(element) ** 2\n",
    "    return(print(result))\n",
    "square(data)"
   ]
  },
  {
   "cell_type": "markdown",
   "metadata": {},
   "source": [
    "## Задание 3"
   ]
  },
  {
   "cell_type": "markdown",
   "metadata": {},
   "source": [
    "Напишите функцию, возвращающую сумму первых n чисел Фибоначчи."
   ]
  },
  {
   "cell_type": "code",
   "execution_count": 204,
   "metadata": {},
   "outputs": [],
   "source": [
    "def F(n):\n",
    "    if n == 0: return print(f\"Сумма первых n (n = {n}) чисел Фибоначчи: {n}\")\n",
    "    elif n == 1: return print(f\"Сумма первых n (n = {n}) чисел Фибоначчи: {n}\")\n",
    "    else:\n",
    "        i = 0\n",
    "    a = 0\n",
    "    f = [0,1]\n",
    "    index1 = 1\n",
    "    index2 = 0\n",
    "    while i <= n-2:\n",
    "        a = f[index1]+f[index2]\n",
    "        index1 += 1\n",
    "        index2 += 1\n",
    "        i += 1\n",
    "        f.append(a)\n",
    "    return print(f\"Сумма первых n (n = {n}) чисел Фибоначчи: {sum(f)}\")"
   ]
  },
  {
   "cell_type": "code",
   "execution_count": 208,
   "metadata": {},
   "outputs": [
    {
     "name": "stdout",
     "output_type": "stream",
     "text": [
      "Сумма первых n (n = 10) чисел Фибоначчи: 143\n"
     ]
    }
   ],
   "source": [
    "F(10)"
   ]
  },
  {
   "cell_type": "markdown",
   "metadata": {},
   "source": [
    "## Задание 4"
   ]
  },
  {
   "cell_type": "markdown",
   "metadata": {},
   "source": [
    "Дан набор данных об обучении студентов на курсе программирования, который содержит: \n",
    "1) имя\n",
    "2) фамилию \n",
    "3) пол \n",
    "4) наличие у студента опыта в программировании \n",
    "5) набор оценок за домашние работы \n",
    "6) оценку за итоговую работу.\n",
    "\n",
    "Напишите программу, которая будет принимать команду от пользователя и возвращать соотвествующий результат.\n",
    "Список команд: \n",
    "1 - вывести на экран среднюю оценку за все ДЗ по группе и вывести на экран среднюю оценку за экзамен по группе;\n",
    "2 - вывести среднюю оценку за ДЗ и за экзамен по группе в разрезе пола студентов\n",
    "3 - вывести среднюю оценку за ДЗ и за экзамен в разрезе наличия опыта в программировании у студентов.\n",
    "\n",
    "Прогрмма должна быть полностью декомпозирована на функции (кроме объявления функций и вызова итоговой функции в реализации ничего быть не должно)."
   ]
  },
  {
   "cell_type": "code",
   "execution_count": 213,
   "metadata": {},
   "outputs": [],
   "source": [
    "students_list = [\n",
    "    {'name': 'Василий', 'surname': 'Теркин', 'sex': 'м', 'program_exp': True, 'grade': [8, 8, 9, 10, 9], 'exam': 9},\n",
    "    {'name': 'Мария', 'surname': 'Павлова', 'sex': 'ж', 'program_exp': True, 'grade': [7, 8, 9, 7, 9], 'exam': 8},\n",
    "    {'name': 'Ирина', 'surname': 'Андреева', 'sex': 'ж', 'program_exp': True, 'grade': [10, 9, 8, 10, 10], 'exam': 10},\n",
    "    {'name': 'Татьяна', 'surname': 'Сидорова', 'sex': 'ж', 'program_exp': True, 'grade': [7, 8, 8, 9, 8], 'exam': 8},\n",
    "    {'name': 'Иван', 'surname': 'Васильев', 'sex': 'ж', 'program_exp': True, 'grade': [9, 8, 9, 6, 9], 'exam': 10},\n",
    "    {'name': 'Роман', 'surname': 'Золотарев', 'sex': 'ж', 'program_exp': False, 'grade': [8, 9, 9, 6, 9], 'exam': 10}\n",
    "]\n",
    "def average_score_person(input_person):\n",
    "    return round(sum(input_person['grade'])/len(input_person['grade']),2)\n",
    "def average_score_in_group(input_list):\n",
    "    average_marks_total = 0\n",
    "    exam_total = 0\n",
    "    for student in input_list:\n",
    "        average_marks_total += average_score_person(student)\n",
    "        exam_total += student['exam']\n",
    "    return print(f\"Средняя оценка за все ДЗ по группе: {round(average_marks_total/len(input_list),2)}; \\\n",
    "    Средняя оценка за экзамен по группе: {round(exam_total/len(input_list), 2)} \")\n",
    "def average_score_sex(input_list):\n",
    "    marks_total_m = 0\n",
    "    marks_quantity_m = 0\n",
    "    exam_total_m = 0\n",
    "    marks_total_w = 0\n",
    "    marks_quantity_w = 0\n",
    "    exam_total_w = 0\n",
    "    for student in input_list:\n",
    "        if student['sex'] == 'м':\n",
    "            marks_total_m += average_score_person(student)\n",
    "            exam_total_m += student['exam']\n",
    "            marks_quantity_m += 1\n",
    "        elif student['sex'] == 'ж':\n",
    "            marks_total_w += average_score_person(student)\n",
    "            exam_total_w += student['exam']\n",
    "            marks_quantity_w += 1\n",
    "    return print(f\"Средняя оценка за ДЗ мужчины: {round(marks_total_m/marks_quantity_m,2)}, экзамен: {round(exam_total_m/marks_quantity_m,2)}; \\\n",
    "    Средняя оценка за ДЗ женщины: {round(marks_total_w/marks_quantity_w,2)}, экзамен: {round(exam_total_w/marks_quantity_w,2)} \")\n",
    "#average_score_sex(students_list)\n",
    "def average_score_exp(input_list):\n",
    "    marks_total_exp = 0\n",
    "    marks_quantity_exp = 0\n",
    "    exam_total_exp = 0\n",
    "    marks_total_noexp = 0\n",
    "    marks_quantity_noexp = 0\n",
    "    exam_total_noexp = 0\n",
    "    for student in input_list:\n",
    "        if student['program_exp'] == True:\n",
    "            marks_total_exp += average_score_person(student)\n",
    "            exam_total_exp += student['exam']\n",
    "            marks_quantity_exp += 1\n",
    "        elif student['program_exp'] == False:\n",
    "            marks_total_noexp += average_score_person(student)\n",
    "            exam_total_noexp += student['exam']\n",
    "            marks_quantity_noexp += 1\n",
    "    return print(f\"Средняя оценка за ДЗ студент с опытом: {round(marks_total_exp/marks_quantity_exp,2)}, экзамен: {round(exam_total_exp/marks_quantity_exp,2)}; \\\n",
    "    Средняя оценка за ДЗ без опыта: {round(marks_total_noexp/marks_quantity_noexp,2)}, экзамен: {round(exam_total_noexp/marks_quantity_noexp,2)};\")"
   ]
  },
  {
   "cell_type": "code",
   "execution_count": 214,
   "metadata": {},
   "outputs": [
    {
     "name": "stdout",
     "output_type": "stream",
     "text": [
      "Средняя оценка за ДЗ студент с опытом: 8.48, экзамен: 9.0;     Средняя оценка за ДЗ без опыта: 8.2, экзамен: 10.0;\n"
     ]
    }
   ],
   "source": [
    "#average_score_exp(students_list)"
   ]
  },
  {
   "cell_type": "code",
   "execution_count": 215,
   "metadata": {},
   "outputs": [],
   "source": [
    "def MAIN(command):\n",
    "    if command == 1: return average_score_in_group(students_list)\n",
    "    elif command == 2: return average_score_sex(students_list)\n",
    "    elif command == 3: return average_score_exp(students_list)"
   ]
  },
  {
   "cell_type": "code",
   "execution_count": null,
   "metadata": {},
   "outputs": [],
   "source": [
    "students_list = [\n",
    "    {'name': 'Василий', 'surname': 'Теркин', 'sex': 'м', 'program_exp': True, 'grade': [8, 8, 9, 10, 9], 'exam': 9},\n",
    "    {'name': 'Мария', 'surname': 'Павлова', 'sex': 'ж', 'program_exp': True, 'grade': [7, 8, 9, 7, 9], 'exam': 8},\n",
    "    {'name': 'Ирина', 'surname': 'Андреева', 'sex': 'ж', 'program_exp': True, 'grade': [10, 9, 8, 10, 10], 'exam': 10},\n",
    "    {'name': 'Татьяна', 'surname': 'Сидорова', 'sex': 'ж', 'program_exp': True, 'grade': [7, 8, 8, 9, 8], 'exam': 8},\n",
    "    {'name': 'Иван', 'surname': 'Васильев', 'sex': 'ж', 'program_exp': True, 'grade': [9, 8, 9, 6, 9], 'exam': 10},\n",
    "    {'name': 'Роман', 'surname': 'Золотарев', 'sex': 'ж', 'program_exp': False, 'grade': [8, 9, 9, 6, 9], 'exam': 10}\n",
    "]"
   ]
  },
  {
   "cell_type": "code",
   "execution_count": 220,
   "metadata": {},
   "outputs": [
    {
     "name": "stdout",
     "output_type": "stream",
     "text": [
      "Средняя оценка за все ДЗ по группе: 8.43;     Средняя оценка за экзамен по группе: 9.17 \n"
     ]
    }
   ],
   "source": [
    "MAIN(1)"
   ]
  },
  {
   "cell_type": "code",
   "execution_count": null,
   "metadata": {},
   "outputs": [],
   "source": []
  }
 ],
 "metadata": {
  "kernelspec": {
   "display_name": "Python 3",
   "language": "python",
   "name": "python3"
  },
  "language_info": {
   "codemirror_mode": {
    "name": "ipython",
    "version": 3
   },
   "file_extension": ".py",
   "mimetype": "text/x-python",
   "name": "python",
   "nbconvert_exporter": "python",
   "pygments_lexer": "ipython3",
   "version": "3.7.3"
  }
 },
 "nbformat": 4,
 "nbformat_minor": 2
}
